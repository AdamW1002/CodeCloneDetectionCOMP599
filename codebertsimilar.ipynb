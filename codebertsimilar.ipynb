{
  "nbformat": 4,
  "nbformat_minor": 0,
  "metadata": {
    "colab": {
      "name": "codebertsimilar.ipynb",
      "provenance": [],
      "collapsed_sections": [],
      "mount_file_id": "1k0TyXLju0lXFekgkN7jI0yKHpLkiv5C7",
      "authorship_tag": "ABX9TyOpgy3/fKQYhuOLtDNtBaos",
      "include_colab_link": true
    },
    "kernelspec": {
      "name": "python3",
      "display_name": "Python 3"
    },
    "language_info": {
      "name": "python"
    },
    "accelerator": "GPU"
  },
  "cells": [
    {
      "cell_type": "markdown",
      "metadata": {
        "id": "view-in-github",
        "colab_type": "text"
      },
      "source": [
        "<a href=\"https://colab.research.google.com/github/AdamW1002/CodeCloneDetectionCOMP599/blob/main/codebertsimilar.ipynb\" target=\"_parent\"><img src=\"https://colab.research.google.com/assets/colab-badge.svg\" alt=\"Open In Colab\"/></a>"
      ]
    },
    {
      "cell_type": "code",
      "execution_count": 101,
      "metadata": {
        "colab": {
          "base_uri": "https://localhost:8080/"
        },
        "id": "a0VZBFbTlCR-",
        "outputId": "ae18498c-c2cc-4832-e4e0-05bad923b308"
      },
      "outputs": [
        {
          "output_type": "stream",
          "name": "stdout",
          "text": [
            "Requirement already satisfied: transformers in /usr/local/lib/python3.7/dist-packages (4.17.0)\n",
            "Requirement already satisfied: tqdm>=4.27 in /usr/local/lib/python3.7/dist-packages (from transformers) (4.63.0)\n",
            "Requirement already satisfied: numpy>=1.17 in /usr/local/lib/python3.7/dist-packages (from transformers) (1.21.5)\n",
            "Requirement already satisfied: huggingface-hub<1.0,>=0.1.0 in /usr/local/lib/python3.7/dist-packages (from transformers) (0.4.0)\n",
            "Requirement already satisfied: pyyaml>=5.1 in /usr/local/lib/python3.7/dist-packages (from transformers) (6.0)\n",
            "Requirement already satisfied: requests in /usr/local/lib/python3.7/dist-packages (from transformers) (2.23.0)\n",
            "Requirement already satisfied: tokenizers!=0.11.3,>=0.11.1 in /usr/local/lib/python3.7/dist-packages (from transformers) (0.11.6)\n",
            "Requirement already satisfied: filelock in /usr/local/lib/python3.7/dist-packages (from transformers) (3.6.0)\n",
            "Requirement already satisfied: regex!=2019.12.17 in /usr/local/lib/python3.7/dist-packages (from transformers) (2019.12.20)\n",
            "Requirement already satisfied: sacremoses in /usr/local/lib/python3.7/dist-packages (from transformers) (0.0.49)\n",
            "Requirement already satisfied: packaging>=20.0 in /usr/local/lib/python3.7/dist-packages (from transformers) (21.3)\n",
            "Requirement already satisfied: importlib-metadata in /usr/local/lib/python3.7/dist-packages (from transformers) (4.11.3)\n",
            "Requirement already satisfied: typing-extensions>=3.7.4.3 in /usr/local/lib/python3.7/dist-packages (from huggingface-hub<1.0,>=0.1.0->transformers) (3.10.0.2)\n",
            "Requirement already satisfied: pyparsing!=3.0.5,>=2.0.2 in /usr/local/lib/python3.7/dist-packages (from packaging>=20.0->transformers) (3.0.7)\n",
            "Requirement already satisfied: zipp>=0.5 in /usr/local/lib/python3.7/dist-packages (from importlib-metadata->transformers) (3.7.0)\n",
            "Requirement already satisfied: chardet<4,>=3.0.2 in /usr/local/lib/python3.7/dist-packages (from requests->transformers) (3.0.4)\n",
            "Requirement already satisfied: certifi>=2017.4.17 in /usr/local/lib/python3.7/dist-packages (from requests->transformers) (2021.10.8)\n",
            "Requirement already satisfied: idna<3,>=2.5 in /usr/local/lib/python3.7/dist-packages (from requests->transformers) (2.10)\n",
            "Requirement already satisfied: urllib3!=1.25.0,!=1.25.1,<1.26,>=1.21.1 in /usr/local/lib/python3.7/dist-packages (from requests->transformers) (1.24.3)\n",
            "Requirement already satisfied: six in /usr/local/lib/python3.7/dist-packages (from sacremoses->transformers) (1.15.0)\n",
            "Requirement already satisfied: joblib in /usr/local/lib/python3.7/dist-packages (from sacremoses->transformers) (1.1.0)\n",
            "Requirement already satisfied: click in /usr/local/lib/python3.7/dist-packages (from sacremoses->transformers) (7.1.2)\n"
          ]
        }
      ],
      "source": [
        "!pip install transformers"
      ]
    },
    {
      "cell_type": "code",
      "source": [
        "from transformers import AutoTokenizer, AutoModel\n",
        "import torch\n",
        "import json\n",
        "import torch\n",
        "import torch.nn as nn\n",
        "import torch.optim as optim\n",
        "from torch.utils.data import Dataset, DataLoader\n",
        "from datetime import datetime\n",
        "import psutil \n",
        "import matplotlib.pyplot as plt\n"
      ],
      "metadata": {
        "id": "7rGU5scXqEbp"
      },
      "execution_count": 102,
      "outputs": []
    },
    {
      "cell_type": "code",
      "source": [
        "\n",
        "tokenizer = AutoTokenizer.from_pretrained(\"microsoft/codebert-base\")\n",
        "codebert = AutoModel.from_pretrained(\"microsoft/codebert-base\")\n",
        "MAX_TOKEN_DIM = 384 #controls padding and input to classifier\n",
        "device = torch.device('cuda' if torch.cuda.is_available() else 'cpu')\n",
        "print(torch.cuda.is_available())\n",
        "print(device)\n",
        "if torch.cuda.is_available():\n",
        "  torch.set_default_tensor_type('torch.cuda.FloatTensor')\n",
        "  print(\"using cuda\")\n",
        "  \n",
        "torch.cuda.device(device)\n"
      ],
      "metadata": {
        "colab": {
          "base_uri": "https://localhost:8080/"
        },
        "id": "U-Ip-3YLpFJn",
        "outputId": "b9da18c1-f6a5-4cfd-a820-66e33d0caeab"
      },
      "execution_count": 103,
      "outputs": [
        {
          "output_type": "stream",
          "name": "stdout",
          "text": [
            "True\n",
            "cuda\n",
            "using cuda\n"
          ]
        },
        {
          "output_type": "execute_result",
          "data": {
            "text/plain": [
              "<torch.cuda.device at 0x7f30972aeb90>"
            ]
          },
          "metadata": {},
          "execution_count": 103
        }
      ]
    },
    {
      "cell_type": "code",
      "source": [
        "def load_data():\n",
        "  f = open(\"/content/drive/MyDrive/CloneData/data.jsonl\") #read sniipets and indices\n",
        "  entries = f.readlines()\n",
        "  objects = [json.loads(x) for x in entries] #load all functions\n",
        "  idx_to_function = dict()\n",
        " \n",
        "  for snippet in objects:#map to associate index to func\n",
        "    \n",
        "    idx_to_function[snippet[\"idx\"]] = snippet[\"func\"]\n",
        "\n",
        "  return idx_to_function"
      ],
      "metadata": {
        "id": "xhrTHlM6pOfa"
      },
      "execution_count": 104,
      "outputs": []
    },
    {
      "cell_type": "code",
      "source": [
        "def pairify_file(lines : list, idx_to_function : dict) -> tuple:\n",
        "  examples = []\n",
        "  \n",
        "  for line in lines:\n",
        "    line_entries = line.replace(\"\\t\", \" \").split(\" \") #given line x y label, divide to find if x is y according to label\n",
        "    #print(line)\n",
        "    x = line_entries[0]\n",
        "    y = line_entries[1]\n",
        "    label = line_entries[2]\n",
        "    \n",
        "    examples.append((idx_to_function[x], idx_to_function[y], float(label))) #convert label to float for pytorch\n",
        "  return examples\n"
      ],
      "metadata": {
        "id": "UiomZTWIp0rQ"
      },
      "execution_count": 105,
      "outputs": []
    },
    {
      "cell_type": "code",
      "source": [
        "def split_and_label_data(idx_to_function : dict): #convert pairs to useful training examples\n",
        "  return tuple(map(  lambda x : pairify_file(open(x).readlines(), idx_to_function)  , [\"/content/drive/MyDrive/CloneData/train.txt\",\"/content/drive/MyDrive/CloneData/test.txt\", \"/content/drive/MyDrive/CloneData/valid.txt\"]))\n"
      ],
      "metadata": {
        "id": "49GUPqpspx2P"
      },
      "execution_count": 106,
      "outputs": []
    },
    {
      "cell_type": "markdown",
      "source": [
        ""
      ],
      "metadata": {
        "id": "YQtpDvNstzDH"
      }
    },
    {
      "cell_type": "code",
      "source": [
        "def embed(x : str) -> tuple:\n",
        "  with torch.no_grad():\n",
        "    code_tokens=tokenizer.tokenize(x)\n",
        "\n",
        "    if len(code_tokens) >= 510: #confirm tokes arent too big for model\n",
        "      return None\n",
        "    tokens=[tokenizer.cls_token]+code_tokens+[tokenizer.sep_token]\n",
        "\n",
        "    tokens_ids=tokenizer.convert_tokens_to_ids(tokens)\n",
        "    context_embeddings=codebert(torch.tensor(tokens_ids)[None,:])[0]\n",
        "    \n",
        "    flattened = torch.flatten(context_embeddings)\n",
        "    \n",
        "    \n",
        "    \n",
        "    return flattened #torch.clamp(flattened, min = -2, max = 2) #return flattened embedding vector"
      ],
      "metadata": {
        "id": "QLJLCUu4w0PY"
      },
      "execution_count": 107,
      "outputs": []
    },
    {
      "cell_type": "code",
      "source": [
        "def embed_data(data : list) -> list: #takes prog1, prog2, label and replaces prog with their embedding for every item in the list and filters out too long items\n",
        "  embedded_data = []\n",
        "  i = 0\n",
        "  for x,y, label in data:\n",
        "    print(\"using {} MB for {} of {}, embedded {}\".format(psutil.Process().memory_info().rss / (1024 * 1024),i, len(data), len(embedded_data)))\n",
        "    emb_x = embed(x)\n",
        "    emb_y = embed(y)\n",
        "   \n",
        "    if emb_x != None and emb_y != None: #check code isnt too long\n",
        "      x_embed = emb_x #Standardize embeddings lengths since they depend on #of tokens\n",
        "      y_embed = emb_y\n",
        "     \n",
        "      padding_length_x  = (MAX_TOKEN_DIM * 768 - x_embed.size()[0])\n",
        "      padding_length_y  = (MAX_TOKEN_DIM * 768 - y_embed.size()[0])\n",
        "      \n",
        "      x_padded = torch.nn.functional.pad(x_embed, (int(padding_length_x/2), int(padding_length_x/2)))\n",
        "      y_padded = torch.nn.functional.pad(y_embed, (int(padding_length_y/2), int(padding_length_y/2)))\n",
        "      embedded_data.append((x_padded,y_padded, label))\n",
        "    i += 1\n",
        "  return embedded_data "
      ],
      "metadata": {
        "id": "ggTEK92rBaLQ"
      },
      "execution_count": 108,
      "outputs": []
    },
    {
      "cell_type": "code",
      "source": [
        "class CloneDataset(Dataset): #dataset \n",
        "\n",
        "  def __init__(self,x : list ,y : list,labels : list):\n",
        "    assert len(x) == len(y) and len(y) == len(labels) #make sure all the same size\n",
        "    #standard boilerplate\n",
        "    self.x = (x)\n",
        "    self.y = (y)\n",
        "    self.labels = torch.tensor(labels)\n",
        "    self.length = len(x)\n",
        "    \n",
        "  def __getitem__(self, idx):\n",
        "    return self.x[idx], self.y[idx], self.labels[idx]\n",
        "  \n",
        "  def __len__(self):\n",
        "    return self.length"
      ],
      "metadata": {
        "id": "00CK6wwm9MjH"
      },
      "execution_count": 109,
      "outputs": []
    },
    {
      "cell_type": "code",
      "source": [
        "idx_to_function = load_data()\n",
        "train_data, test_data,validation_data = split_and_label_data(idx_to_function)\n",
        "train_data = embed_data(train_data[:100])\n",
        "#test_data = embed_data(test_data)\n",
        "#validation_data = embed_data(validation_data)"
      ],
      "metadata": {
        "colab": {
          "base_uri": "https://localhost:8080/"
        },
        "id": "hafzrTWspZ1P",
        "outputId": "154f4219-b8bf-440a-ccec-e4e0ec84539c"
      },
      "execution_count": 110,
      "outputs": [
        {
          "output_type": "stream",
          "name": "stderr",
          "text": [
            "Token indices sequence length is longer than the specified maximum sequence length for this model (1023 > 512). Running this sequence through the model will result in indexing errors\n"
          ]
        },
        {
          "output_type": "stream",
          "name": "stdout",
          "text": [
            "using 10360.1328125 MB for 0 of 100, embedded 0\n",
            "using 10360.1328125 MB for 1 of 100, embedded 1\n",
            "using 10272.3828125 MB for 2 of 100, embedded 1\n",
            "using 10272.3828125 MB for 3 of 100, embedded 2\n",
            "using 10272.3828125 MB for 4 of 100, embedded 3\n",
            "using 10272.3828125 MB for 5 of 100, embedded 4\n",
            "using 10272.3828125 MB for 6 of 100, embedded 4\n",
            "using 10272.3828125 MB for 7 of 100, embedded 4\n",
            "using 10272.1328125 MB for 8 of 100, embedded 5\n",
            "using 10272.1328125 MB for 9 of 100, embedded 5\n",
            "using 10272.1328125 MB for 10 of 100, embedded 5\n",
            "using 10272.1328125 MB for 11 of 100, embedded 5\n",
            "using 10272.1328125 MB for 12 of 100, embedded 5\n",
            "using 10272.1328125 MB for 13 of 100, embedded 5\n",
            "using 10272.1328125 MB for 14 of 100, embedded 5\n",
            "using 10272.1328125 MB for 15 of 100, embedded 5\n",
            "using 10272.1328125 MB for 16 of 100, embedded 5\n",
            "using 10272.1328125 MB for 17 of 100, embedded 5\n",
            "using 10272.1328125 MB for 18 of 100, embedded 5\n",
            "using 10272.1328125 MB for 19 of 100, embedded 6\n",
            "using 10272.1328125 MB for 20 of 100, embedded 6\n",
            "using 10272.1328125 MB for 21 of 100, embedded 6\n",
            "using 10272.1328125 MB for 22 of 100, embedded 6\n",
            "using 10272.1328125 MB for 23 of 100, embedded 6\n",
            "using 10272.1328125 MB for 24 of 100, embedded 6\n",
            "using 10272.1328125 MB for 25 of 100, embedded 6\n",
            "using 10272.1328125 MB for 26 of 100, embedded 6\n",
            "using 10272.1328125 MB for 27 of 100, embedded 6\n",
            "using 10272.1328125 MB for 28 of 100, embedded 6\n",
            "using 10272.1328125 MB for 29 of 100, embedded 6\n",
            "using 10272.1328125 MB for 30 of 100, embedded 6\n",
            "using 10272.1328125 MB for 31 of 100, embedded 6\n",
            "using 10272.1328125 MB for 32 of 100, embedded 6\n",
            "using 10272.1328125 MB for 33 of 100, embedded 6\n",
            "using 10272.1328125 MB for 34 of 100, embedded 7\n",
            "using 10272.1328125 MB for 35 of 100, embedded 7\n",
            "using 10272.1328125 MB for 36 of 100, embedded 8\n",
            "using 10272.1328125 MB for 37 of 100, embedded 8\n",
            "using 10272.1328125 MB for 38 of 100, embedded 8\n",
            "using 10272.1328125 MB for 39 of 100, embedded 8\n",
            "using 10272.1328125 MB for 40 of 100, embedded 8\n",
            "using 10272.1328125 MB for 41 of 100, embedded 9\n",
            "using 10272.1328125 MB for 42 of 100, embedded 9\n",
            "using 10272.1328125 MB for 43 of 100, embedded 10\n",
            "using 10272.20703125 MB for 44 of 100, embedded 10\n",
            "using 10272.20703125 MB for 45 of 100, embedded 10\n",
            "using 10272.20703125 MB for 46 of 100, embedded 10\n",
            "using 10272.20703125 MB for 47 of 100, embedded 11\n",
            "using 10272.20703125 MB for 48 of 100, embedded 11\n",
            "using 10272.20703125 MB for 49 of 100, embedded 11\n",
            "using 10272.20703125 MB for 50 of 100, embedded 11\n",
            "using 10272.20703125 MB for 51 of 100, embedded 11\n",
            "using 10272.2109375 MB for 52 of 100, embedded 11\n",
            "using 10272.2109375 MB for 53 of 100, embedded 11\n",
            "using 10272.2109375 MB for 54 of 100, embedded 11\n",
            "using 10272.2109375 MB for 55 of 100, embedded 11\n",
            "using 10272.2109375 MB for 56 of 100, embedded 12\n",
            "using 10272.2109375 MB for 57 of 100, embedded 13\n",
            "using 10272.2109375 MB for 58 of 100, embedded 13\n",
            "using 10272.2109375 MB for 59 of 100, embedded 14\n",
            "using 10272.2109375 MB for 60 of 100, embedded 14\n",
            "using 10272.2109375 MB for 61 of 100, embedded 15\n",
            "using 10272.2109375 MB for 62 of 100, embedded 16\n",
            "using 10272.2109375 MB for 63 of 100, embedded 16\n",
            "using 10272.2109375 MB for 64 of 100, embedded 16\n",
            "using 10272.2109375 MB for 65 of 100, embedded 17\n",
            "using 10272.2109375 MB for 66 of 100, embedded 18\n",
            "using 10272.2109375 MB for 67 of 100, embedded 19\n",
            "using 10272.2109375 MB for 68 of 100, embedded 19\n",
            "using 10272.2109375 MB for 69 of 100, embedded 20\n",
            "using 10272.2109375 MB for 70 of 100, embedded 21\n",
            "using 10272.2109375 MB for 71 of 100, embedded 21\n",
            "using 10272.2109375 MB for 72 of 100, embedded 21\n",
            "using 10272.2109375 MB for 73 of 100, embedded 22\n",
            "using 10272.2109375 MB for 74 of 100, embedded 22\n",
            "using 10272.2109375 MB for 75 of 100, embedded 23\n",
            "using 10272.2109375 MB for 76 of 100, embedded 24\n",
            "using 10272.2109375 MB for 77 of 100, embedded 24\n",
            "using 10272.2109375 MB for 78 of 100, embedded 24\n",
            "using 10272.2109375 MB for 79 of 100, embedded 24\n",
            "using 10272.2109375 MB for 80 of 100, embedded 25\n",
            "using 10272.2109375 MB for 81 of 100, embedded 25\n",
            "using 10272.2109375 MB for 82 of 100, embedded 25\n",
            "using 10272.2109375 MB for 83 of 100, embedded 25\n",
            "using 10272.2109375 MB for 84 of 100, embedded 25\n",
            "using 10272.2109375 MB for 85 of 100, embedded 25\n",
            "using 10272.2109375 MB for 86 of 100, embedded 25\n",
            "using 10272.2109375 MB for 87 of 100, embedded 25\n",
            "using 10272.2109375 MB for 88 of 100, embedded 25\n",
            "using 10272.2109375 MB for 89 of 100, embedded 25\n",
            "using 10272.2109375 MB for 90 of 100, embedded 25\n",
            "using 10272.2109375 MB for 91 of 100, embedded 26\n",
            "using 10272.2109375 MB for 92 of 100, embedded 26\n",
            "using 10272.2109375 MB for 93 of 100, embedded 26\n",
            "using 10272.2109375 MB for 94 of 100, embedded 26\n",
            "using 10272.2109375 MB for 95 of 100, embedded 26\n",
            "using 10272.2109375 MB for 96 of 100, embedded 27\n",
            "using 10272.2109375 MB for 97 of 100, embedded 27\n",
            "using 10272.2109375 MB for 98 of 100, embedded 27\n",
            "using 10272.2109375 MB for 99 of 100, embedded 27\n"
          ]
        }
      ]
    },
    {
      "cell_type": "code",
      "source": [
        "def build_dataset(data : list):\n",
        "  x_list = []\n",
        "  y_list = []\n",
        "  label_list = []\n",
        "  for x,y,l in data:#convert list of tuples to 3 separate lists\n",
        "    #x.to(device)\n",
        "    #y.to(device)\n",
        "\n",
        "    x_list.append(torch.flatten(x))\n",
        "    y_list.append(torch.flatten(y))\n",
        "    label_list.append(l)\n",
        "\n",
        "  return CloneDataset(x_list, y_list, label_list)"
      ],
      "metadata": {
        "id": "I9GsM8wgAXRT"
      },
      "execution_count": 111,
      "outputs": []
    },
    {
      "cell_type": "code",
      "source": [
        "train_data = build_dataset(train_data)\n",
        "trainLoader = DataLoader(train_data, batch_size= 3, shuffle = False)"
      ],
      "metadata": {
        "id": "YedE49quAN3_"
      },
      "execution_count": 112,
      "outputs": []
    },
    {
      "cell_type": "code",
      "source": [
        "class Classifier(nn.Module):\n",
        "    def __init__(self):\n",
        "        super(Classifier, self).__init__()\n",
        "        # Number of input features is 12.\n",
        "        #self.layer_1 = nn.Linear(12, 64) \n",
        "        #self.layer_2 = nn.Linear(64, 64)\n",
        "        #self.layer_out = nn.Linear(64, 1) \n",
        "        #\n",
        "        #self.relu = nn.ReLU()\n",
        "        #self.dropout = nn.Dropout(p=0.1)\n",
        "        #self.batchnorm1 = nn.BatchNorm1d(64)\n",
        "        #self.batchnorm2 = nn.BatchNorm1d(64)\n",
        "        \n",
        "        #A note on architecture for those interested, we eat CodeBERT embeddings of size X  * 768 which have been flattened\n",
        "        # Now those vectors are each fed into FF layer(s)\n",
        "        #Then they're concatnated and fed thru more FF layer(s)\n",
        "        # Then their dimensionality is shrunk down to 1, which is sigmoided\n",
        "        layer2_size = 512\n",
        "        layer3_size = 256\n",
        "        layer4_size = 32\n",
        "        self.xlayer_1 = nn.Linear(MAX_TOKEN_DIM * 768, layer2_size)\n",
        "        self.ylayer_1 = nn.Linear(MAX_TOKEN_DIM * 768, layer2_size)\n",
        "\n",
        "        self.ff1 = nn.Linear(2 * layer2_size, 1 )\n",
        "        #self.ff2 = nn.Linear(layer3_size, layer4_size)\n",
        "        #self.ff3 = nn.Linear(layer4_size, 1)\n",
        "        self.relu = nn.ReLU()\n",
        "        self.sigmoid = nn.Sigmoid()\n",
        "\n",
        "        nn.init.xavier_normal_(self.xlayer_1.weight)\n",
        "        nn.init.xavier_normal_(self.ylayer_1.weight)\n",
        "        nn.init.xavier_normal_(self.ff1.weight)\n",
        "        #nn.init.xavier_normal_(self.ff2.weight)\n",
        "        #nn.init.xavier_normal_(self.ff3.weight)\n",
        "\n",
        "        #self.to(device)\n",
        "\n",
        "\n",
        "    def forward(self, x,y):\n",
        "       #x = self.relu(self.layer_1(inputs))\n",
        "       #x = self.batchnorm1(x)\n",
        "       #x = self.relu(self.layer_2(x))\n",
        "       #x = self.batchnorm2(x)\n",
        "       #x = self.dropout(x)\n",
        "       #x = self.layer_out(x)\n",
        "       #\n",
        "       #return x\n",
        "       xtemp = self.xlayer_1(x)\n",
        "       xtemp = self.relu(xtemp)\n",
        "\n",
        "       ytemp = self.ylayer_1(y)\n",
        "       ytemp = self.relu(ytemp)\n",
        "\n",
        "       \n",
        "       combined = torch.cat((xtemp, ytemp),1)\n",
        "      \n",
        "       out = self.ff1(combined)\n",
        "       #out = self.relu(out)\n",
        "       #out = self.ff2(out)\n",
        "       #out = self.relu(out)\n",
        "       #out = self.ff3(out)\n",
        "       \n",
        "       #out = self.sigmoid(out)\n",
        "       return out\n"
      ],
      "metadata": {
        "id": "eZZu9vOmt8tm"
      },
      "execution_count": 113,
      "outputs": []
    },
    {
      "cell_type": "code",
      "source": [
        "def train():\n",
        "  epochs  = 3 #standard boilerplate\n",
        "  model = Classifier()\n",
        "  print(model.ff1.weight.device)\n",
        "  #criterion = nn.BCELoss()\n",
        "  criterion = nn.BCEWithLogitsLoss()\n",
        "  optimizer = optim.Adam(model.parameters())\n",
        "  \n",
        "\n",
        "  loss_history = []\n",
        "  f1_history = []\n",
        "  for epoch in range(epochs): #standard training procedure\n",
        "    \n",
        "    epoch_loss = 0\n",
        "    \n",
        "    tp_count = 0 #setup for f1 score\n",
        "    fp_count = 0\n",
        "    fn_count = 0\n",
        "    f1 = 0\n",
        "    \n",
        "    j = 0\n",
        "    for x,y, label in trainLoader:\n",
        "      \n",
        "      start = datetime.now()\n",
        "      optimizer.zero_grad()\n",
        "      print(x.dtype)\n",
        "      print(\"max x {}\".format(torch.max(x)))\n",
        "     \n",
        "      pred = model(x,y)\n",
        "      pred.to(\"cpu\")\n",
        "      label.to(\"cpu\")\n",
        "      print(pred)\n",
        "\n",
        "\n",
        "      #print(label.shape)\n",
        "      #print(pred.view(10).shape)\n",
        "      loss = criterion(torch.flatten(pred.unsqueeze(1)),torch.flatten(label.unsqueeze(1)))\n",
        "      loss.backward()\n",
        "      #nn.utils.clip_grad_norm_(model.parameters(), max_norm = 2.0, norm_type = 2.0)\n",
        "      optimizer.step()\n",
        "      #print(\"pred is {}\".format(pred))\n",
        "      epoch_loss += loss.item()\n",
        "\n",
        "      #calculate scores\n",
        "      pred_rounded = torch.round(pred)\n",
        "      for i in range(label.shape[0]):\n",
        "        if pred_rounded[i] == 1 and label[i] == 1:\n",
        "          tp_count += 1\n",
        "        elif pred_rounded[i] == 1 and label[i] == 0:\n",
        "          fp_count += 1\n",
        "        elif pred_rounded[i] == 0 and label[i] == 1:\n",
        "          fn_count += 1\n",
        "      \n",
        "      end = datetime.now()\n",
        "      delta_t = end-start \n",
        "\n",
        "      \n",
        "      if (tp_count + .5 * (fp_count + fn_count)) != 0: #dont get 0 for denom of f1\n",
        "        f1 = tp_count/(tp_count + .5 * (fp_count + fn_count))\n",
        "      if j % 2 == 0:\n",
        "        print(\"time per iteration {} s\".format(delta_t.microseconds / 10**6))\n",
        "        print(\"at iteration{} of epoch {} total loss is {} , f1 is {}, tp is {}, current loss is {}\".format(j,epoch,epoch_loss, f1, tp_count, loss.item()))\n",
        "      j+=1\n",
        "      loss_history.append(loss.item())\n",
        "      f1_history.append(f1)\n",
        "\n",
        "  return (loss_history,f1_history)"
      ],
      "metadata": {
        "id": "mDmyDuz6wuN7"
      },
      "execution_count": 115,
      "outputs": []
    },
    {
      "cell_type": "code",
      "source": [
        "loss_history, f1_history = train()"
      ],
      "metadata": {
        "id": "Gsr8-zrrzR7_"
      },
      "execution_count": null,
      "outputs": []
    },
    {
      "cell_type": "code",
      "source": [
        "plt.scatter(list(range(len(f1_history))), f1_history)\n",
        "plt.title(\"F1 score\")\n",
        "plt.xlabel(\"Iterations\")\n",
        "plt.ylabel(\"F1\")\n",
        "plt.show()\n",
        "plt.scatter(list(range(len(loss_history))), loss_history)\n",
        "plt.title(\"Loss\")\n",
        "plt.xlabel(\"Iterations\")\n",
        "plt.ylabel(\"Loss\")\n",
        "plt.show()"
      ],
      "metadata": {
        "id": "5hDwOnK2p_AY",
        "colab": {
          "base_uri": "https://localhost:8080/",
          "height": 573
        },
        "outputId": "0d78414b-7d13-4098-8596-1a41a0806ec3"
      },
      "execution_count": 117,
      "outputs": [
        {
          "output_type": "display_data",
          "data": {
            "text/plain": [
              "<Figure size 432x288 with 1 Axes>"
            ],
            "image/png": "[encoded data removed]"
          },
          "metadata": {
            "needs_background": "light"
          }
        },
        {
          "output_type": "display_data",
          "data": {
            "text/plain": [
              "<Figure size 432x288 with 1 Axes>"
            ],
            "image/png": "[encoded data removed]"
          },
          "metadata": {
            "needs_background": "light"
          }
        }
      ]
    }
  ]
}