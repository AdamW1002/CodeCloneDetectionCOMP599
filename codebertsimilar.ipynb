{
  "nbformat": 4,
  "nbformat_minor": 0,
  "metadata": {
    "colab": {
      "name": "codebertsimilar.ipynb",
      "provenance": [],
      "collapsed_sections": [],
      "toc_visible": true,
      "mount_file_id": "1k0TyXLju0lXFekgkN7jI0yKHpLkiv5C7",
      "authorship_tag": "ABX9TyPZ1//uCLe6g05Gb+XUiZLQ",
      "include_colab_link": true
    },
    "kernelspec": {
      "name": "python3",
      "display_name": "Python 3"
    },
    "language_info": {
      "name": "python"
    },
    "accelerator": "TPU"
  },
  "cells": [
    {
      "cell_type": "markdown",
      "metadata": {
        "id": "view-in-github",
        "colab_type": "text"
      },
      "source": [
        "<a href=\"https://colab.research.google.com/github/AdamW1002/CodeCloneDetectionCOMP599/blob/main/codebertsimilar.ipynb\" target=\"_parent\"><img src=\"https://colab.research.google.com/assets/colab-badge.svg\" alt=\"Open In Colab\"/></a>"
      ]
    },
    {
      "cell_type": "markdown",
      "source": [
        "# Load required things and setup environment"
      ],
      "metadata": {
        "id": "qbT3SApH0bn7"
      }
    },
    {
      "cell_type": "code",
      "source": [
        "!pip install cloud-tpu-client==0.10 torch==1.11.0 https://storage.googleapis.com/tpu-pytorch/wheels/colab/torch_xla-1.11-cp37-cp37m-linux_x86_64.whl"
      ],
      "metadata": {
        "colab": {
          "base_uri": "https://localhost:8080/"
        },
        "id": "84m73cj0zYi4",
        "outputId": "9f7b800b-7a9c-4999-f1f7-9d50e38401c8"
      },
      "execution_count": 1,
      "outputs": [
        {
          "output_type": "stream",
          "name": "stdout",
          "text": [
            "Collecting torch-xla==1.11\n",
            "  Using cached https://storage.googleapis.com/tpu-pytorch/wheels/colab/torch_xla-1.11-cp37-cp37m-linux_x86_64.whl (152.9 MB)\n",
            "Requirement already satisfied: cloud-tpu-client==0.10 in /usr/local/lib/python3.7/dist-packages (0.10)\n",
            "Requirement already satisfied: torch==1.11.0 in /usr/local/lib/python3.7/dist-packages (1.11.0)\n",
            "Requirement already satisfied: oauth2client in /usr/local/lib/python3.7/dist-packages (from cloud-tpu-client==0.10) (4.1.3)\n",
            "Requirement already satisfied: google-api-python-client==1.8.0 in /usr/local/lib/python3.7/dist-packages (from cloud-tpu-client==0.10) (1.8.0)\n",
            "Requirement already satisfied: typing-extensions in /usr/local/lib/python3.7/dist-packages (from torch==1.11.0) (4.1.1)\n",
            "Requirement already satisfied: google-auth>=1.4.1 in /usr/local/lib/python3.7/dist-packages (from google-api-python-client==1.8.0->cloud-tpu-client==0.10) (1.35.0)\n",
            "Requirement already satisfied: google-api-core<2dev,>=1.13.0 in /usr/local/lib/python3.7/dist-packages (from google-api-python-client==1.8.0->cloud-tpu-client==0.10) (1.31.5)\n",
            "Requirement already satisfied: six<2dev,>=1.6.1 in /usr/local/lib/python3.7/dist-packages (from google-api-python-client==1.8.0->cloud-tpu-client==0.10) (1.16.0)\n",
            "Requirement already satisfied: httplib2<1dev,>=0.9.2 in /usr/local/lib/python3.7/dist-packages (from google-api-python-client==1.8.0->cloud-tpu-client==0.10) (0.20.4)\n",
            "Requirement already satisfied: uritemplate<4dev,>=3.0.0 in /usr/local/lib/python3.7/dist-packages (from google-api-python-client==1.8.0->cloud-tpu-client==0.10) (3.0.1)\n",
            "Requirement already satisfied: google-auth-httplib2>=0.0.3 in /usr/local/lib/python3.7/dist-packages (from google-api-python-client==1.8.0->cloud-tpu-client==0.10) (0.1.0)\n",
            "Requirement already satisfied: protobuf>=3.12.0 in /usr/local/lib/python3.7/dist-packages (from google-api-core<2dev,>=1.13.0->google-api-python-client==1.8.0->cloud-tpu-client==0.10) (3.20.0)\n",
            "Requirement already satisfied: googleapis-common-protos<2.0dev,>=1.6.0 in /usr/local/lib/python3.7/dist-packages (from google-api-core<2dev,>=1.13.0->google-api-python-client==1.8.0->cloud-tpu-client==0.10) (1.56.0)\n",
            "Requirement already satisfied: pytz in /usr/local/lib/python3.7/dist-packages (from google-api-core<2dev,>=1.13.0->google-api-python-client==1.8.0->cloud-tpu-client==0.10) (2022.1)\n",
            "Requirement already satisfied: setuptools>=40.3.0 in /usr/local/lib/python3.7/dist-packages (from google-api-core<2dev,>=1.13.0->google-api-python-client==1.8.0->cloud-tpu-client==0.10) (62.1.0)\n",
            "Requirement already satisfied: packaging>=14.3 in /usr/local/lib/python3.7/dist-packages (from google-api-core<2dev,>=1.13.0->google-api-python-client==1.8.0->cloud-tpu-client==0.10) (21.3)\n",
            "Requirement already satisfied: requests<3.0.0dev,>=2.18.0 in /usr/local/lib/python3.7/dist-packages (from google-api-core<2dev,>=1.13.0->google-api-python-client==1.8.0->cloud-tpu-client==0.10) (2.27.1)\n",
            "Requirement already satisfied: cachetools<5.0,>=2.0.0 in /usr/local/lib/python3.7/dist-packages (from google-auth>=1.4.1->google-api-python-client==1.8.0->cloud-tpu-client==0.10) (4.2.4)\n",
            "Requirement already satisfied: pyasn1-modules>=0.2.1 in /usr/local/lib/python3.7/dist-packages (from google-auth>=1.4.1->google-api-python-client==1.8.0->cloud-tpu-client==0.10) (0.2.8)\n",
            "Requirement already satisfied: rsa<5,>=3.1.4 in /usr/local/lib/python3.7/dist-packages (from google-auth>=1.4.1->google-api-python-client==1.8.0->cloud-tpu-client==0.10) (4.8)\n",
            "Requirement already satisfied: pyparsing!=3.0.0,!=3.0.1,!=3.0.2,!=3.0.3,<4,>=2.4.2 in /usr/local/lib/python3.7/dist-packages (from httplib2<1dev,>=0.9.2->google-api-python-client==1.8.0->cloud-tpu-client==0.10) (3.0.8)\n",
            "Requirement already satisfied: pyasn1<0.5.0,>=0.4.6 in /usr/local/lib/python3.7/dist-packages (from pyasn1-modules>=0.2.1->google-auth>=1.4.1->google-api-python-client==1.8.0->cloud-tpu-client==0.10) (0.4.8)\n",
            "Requirement already satisfied: idna<4,>=2.5 in /usr/local/lib/python3.7/dist-packages (from requests<3.0.0dev,>=2.18.0->google-api-core<2dev,>=1.13.0->google-api-python-client==1.8.0->cloud-tpu-client==0.10) (3.3)\n",
            "Requirement already satisfied: certifi>=2017.4.17 in /usr/local/lib/python3.7/dist-packages (from requests<3.0.0dev,>=2.18.0->google-api-core<2dev,>=1.13.0->google-api-python-client==1.8.0->cloud-tpu-client==0.10) (2021.10.8)\n",
            "Requirement already satisfied: charset-normalizer~=2.0.0 in /usr/local/lib/python3.7/dist-packages (from requests<3.0.0dev,>=2.18.0->google-api-core<2dev,>=1.13.0->google-api-python-client==1.8.0->cloud-tpu-client==0.10) (2.0.12)\n",
            "Requirement already satisfied: urllib3<1.27,>=1.21.1 in /usr/local/lib/python3.7/dist-packages (from requests<3.0.0dev,>=2.18.0->google-api-core<2dev,>=1.13.0->google-api-python-client==1.8.0->cloud-tpu-client==0.10) (1.26.9)\n"
          ]
        }
      ]
    },
    {
      "cell_type": "code",
      "execution_count": 2,
      "metadata": {
        "colab": {
          "base_uri": "https://localhost:8080/"
        },
        "id": "a0VZBFbTlCR-",
        "outputId": "57e71d46-32fe-4bac-ec0c-d8d1ec26cd22"
      },
      "outputs": [
        {
          "output_type": "stream",
          "name": "stdout",
          "text": [
            "Requirement already satisfied: transformers in /usr/local/lib/python3.7/dist-packages (4.18.0)\n",
            "Requirement already satisfied: numpy>=1.17 in /usr/local/lib/python3.7/dist-packages (from transformers) (1.21.5)\n",
            "Requirement already satisfied: pyyaml>=5.1 in /usr/local/lib/python3.7/dist-packages (from transformers) (6.0)\n",
            "Requirement already satisfied: importlib-metadata in /usr/local/lib/python3.7/dist-packages (from transformers) (4.11.3)\n",
            "Requirement already satisfied: huggingface-hub<1.0,>=0.1.0 in /usr/local/lib/python3.7/dist-packages (from transformers) (0.5.1)\n",
            "Requirement already satisfied: filelock in /usr/local/lib/python3.7/dist-packages (from transformers) (3.6.0)\n",
            "Requirement already satisfied: tqdm>=4.27 in /usr/local/lib/python3.7/dist-packages (from transformers) (4.64.0)\n",
            "Requirement already satisfied: tokenizers!=0.11.3,<0.13,>=0.11.1 in /usr/local/lib/python3.7/dist-packages (from transformers) (0.12.1)\n",
            "Requirement already satisfied: requests in /usr/local/lib/python3.7/dist-packages (from transformers) (2.27.1)\n",
            "Requirement already satisfied: packaging>=20.0 in /usr/local/lib/python3.7/dist-packages (from transformers) (21.3)\n",
            "Requirement already satisfied: sacremoses in /usr/local/lib/python3.7/dist-packages (from transformers) (0.0.49)\n",
            "Requirement already satisfied: regex!=2019.12.17 in /usr/local/lib/python3.7/dist-packages (from transformers) (2019.12.20)\n",
            "Requirement already satisfied: typing-extensions>=3.7.4.3 in /usr/local/lib/python3.7/dist-packages (from huggingface-hub<1.0,>=0.1.0->transformers) (4.1.1)\n",
            "Requirement already satisfied: pyparsing!=3.0.5,>=2.0.2 in /usr/local/lib/python3.7/dist-packages (from packaging>=20.0->transformers) (3.0.8)\n",
            "Requirement already satisfied: zipp>=0.5 in /usr/local/lib/python3.7/dist-packages (from importlib-metadata->transformers) (3.8.0)\n",
            "Requirement already satisfied: urllib3<1.27,>=1.21.1 in /usr/local/lib/python3.7/dist-packages (from requests->transformers) (1.26.9)\n",
            "Requirement already satisfied: certifi>=2017.4.17 in /usr/local/lib/python3.7/dist-packages (from requests->transformers) (2021.10.8)\n",
            "Requirement already satisfied: charset-normalizer~=2.0.0 in /usr/local/lib/python3.7/dist-packages (from requests->transformers) (2.0.12)\n",
            "Requirement already satisfied: idna<4,>=2.5 in /usr/local/lib/python3.7/dist-packages (from requests->transformers) (3.3)\n",
            "Requirement already satisfied: click in /usr/local/lib/python3.7/dist-packages (from sacremoses->transformers) (7.1.2)\n",
            "Requirement already satisfied: six in /usr/local/lib/python3.7/dist-packages (from sacremoses->transformers) (1.16.0)\n",
            "Requirement already satisfied: joblib in /usr/local/lib/python3.7/dist-packages (from sacremoses->transformers) (1.1.0)\n"
          ]
        }
      ],
      "source": [
        "!pip install transformers"
      ]
    },
    {
      "cell_type": "code",
      "source": [
        "from transformers import AutoTokenizer, AutoModel\n",
        "import torch\n",
        "import json\n",
        "import torch\n",
        "import torch.nn as nn\n",
        "import torch.optim as optim\n",
        "from torch.utils.data import Dataset, DataLoader\n",
        "from datetime import datetime\n",
        "import psutil \n",
        "import matplotlib.pyplot as plt\n",
        "import pdb\n",
        "\n",
        "import torch_xla\n",
        "import torch_xla.core.xla_model as xm\n",
        "import torch_xla.debug.metrics as met"
      ],
      "metadata": {
        "id": "7rGU5scXqEbp",
        "colab": {
          "base_uri": "https://localhost:8080/"
        },
        "outputId": "fe1eb6c1-bdca-4669-d89f-dfacea14b504"
      },
      "execution_count": 3,
      "outputs": [
        {
          "output_type": "stream",
          "name": "stderr",
          "text": [
            "WARNING:root:TPU has started up successfully with version pytorch-1.11\n"
          ]
        }
      ]
    },
    {
      "cell_type": "code",
      "source": [
        "\n",
        "\n",
        "MAX_TOKEN_DIM = 512 #controls padding and input to classifier\n",
        "device = torch.device('cpu')\n",
        "if torch.cuda.is_available():\n",
        "  device = torch.device('cuda')\n",
        "  torch.cuda.device(device)\n",
        "try:\n",
        "  print(xm.xla_device())\n",
        "  device = xm.xla_device()\n",
        "  print(\"USING TPU\")\n",
        "except:\n",
        "  print(\"NOT USING TPU\")\n",
        "  pass\n",
        "print(torch.cuda.is_available())\n",
        "print(device)\n",
        "if torch.cuda.is_available():\n",
        "  torch.set_default_tensor_type('torch.cuda.FloatTensor')\n",
        "  print(\"using cuda\")\n",
        "  \n",
        "\n",
        "tokenizer = AutoTokenizer.from_pretrained(\"microsoft/codebert-base\")\n",
        "codebert = AutoModel.from_pretrained(\"microsoft/codebert-base\")\n",
        "torch.set_printoptions(precision=7)"
      ],
      "metadata": {
        "colab": {
          "base_uri": "https://localhost:8080/"
        },
        "id": "U-Ip-3YLpFJn",
        "outputId": "39741a6a-4258-43c1-a776-b1c65b8180df"
      },
      "execution_count": 4,
      "outputs": [
        {
          "output_type": "stream",
          "name": "stdout",
          "text": [
            "xla:1\n",
            "USING TPU\n",
            "False\n",
            "xla:1\n"
          ]
        }
      ]
    },
    {
      "cell_type": "code",
      "source": [
        "def load_data():\n",
        "  f = open(\"/content/drive/MyDrive/CloneData/data.jsonl\") #read sniipets and indices\n",
        "  entries = f.readlines()\n",
        "  objects = [json.loads(x) for x in entries] #load all functions\n",
        "  idx_to_function = dict()\n",
        " \n",
        "  for snippet in objects:#map to associate index to func\n",
        "    \n",
        "    idx_to_function[snippet[\"idx\"]] = snippet[\"func\"]\n",
        "\n",
        "  return idx_to_function"
      ],
      "metadata": {
        "id": "xhrTHlM6pOfa"
      },
      "execution_count": 5,
      "outputs": []
    },
    {
      "cell_type": "code",
      "source": [
        "def pairify_file(lines : list, idx_to_function : dict) -> tuple:\n",
        "  examples = []\n",
        "  \n",
        "  for line in lines:\n",
        "    line_entries = line.replace(\"\\t\", \" \").split(\" \") #given line x y label, divide to find if x is y according to label\n",
        "    #print(line)\n",
        "    x = line_entries[0]\n",
        "    y = line_entries[1]\n",
        "    label = line_entries[2]\n",
        "    \n",
        "    examples.append((idx_to_function[x], idx_to_function[y], float(label))) #convert label to float for pytorch\n",
        "  return examples\n"
      ],
      "metadata": {
        "id": "UiomZTWIp0rQ"
      },
      "execution_count": 6,
      "outputs": []
    },
    {
      "cell_type": "code",
      "source": [
        "def split_and_label_data(idx_to_function : dict): #convert pairs to useful training examples\n",
        "  return tuple(map(  lambda x : pairify_file(open(x).readlines(), idx_to_function)  , [\"/content/drive/MyDrive/CloneData/train.txt\",\"/content/drive/MyDrive/CloneData/test.txt\", \"/content/drive/MyDrive/CloneData/valid.txt\"]))\n"
      ],
      "metadata": {
        "id": "49GUPqpspx2P"
      },
      "execution_count": 7,
      "outputs": []
    },
    {
      "cell_type": "markdown",
      "source": [
        "# Pre-calculate embeddings"
      ],
      "metadata": {
        "id": "4EYrKogx0kQo"
      }
    },
    {
      "cell_type": "code",
      "source": [
        "def embed(x : str) -> torch.TensorType:\n",
        "  with torch.no_grad():\n",
        "    code_tokens=tokenizer.tokenize(x)\n",
        "\n",
        "    if len(code_tokens) >= 510: #confirm tokes arent too big for model\n",
        "      return None\n",
        "    tokens=[tokenizer.cls_token]+code_tokens+[tokenizer.sep_token]\n",
        "\n",
        "    tokens_ids=tokenizer.convert_tokens_to_ids(tokens)\n",
        "    context_embeddings=codebert(torch.tensor(tokens_ids, device = device)[None,:])[0]\n",
        "    \n",
        "    flattened = torch.flatten(context_embeddings)\n",
        "    \n",
        "    \n",
        "    \n",
        "    return flattened #torch.clamp(flattened, min = -2, max = 2) #return flattened embedding vector"
      ],
      "metadata": {
        "id": "QLJLCUu4w0PY"
      },
      "execution_count": 8,
      "outputs": []
    },
    {
      "cell_type": "code",
      "source": [
        "def embed_data(data : list) -> list: #takes prog1, prog2, label and replaces prog with their embedding for every item in the list and filters out too long items\n",
        "  embedded_data = []\n",
        "  i = 0\n",
        "  \n",
        "  for x,y, label in data:\n",
        "\n",
        "    if i % 10 == 0:  \n",
        "      #print(\"using {} MB for {} of {}, embedded {}\".format(psutil.Process().memory_info().rss / (1024 * 1024),i, len(data), len(embedded_data)))\n",
        "      pass\n",
        "    emb_x = embed(x[0])\n",
        "    emb_y = embed(y[0])\n",
        "    #pdb.set_trace()\n",
        "    if emb_x != None and emb_y != None: #check code isnt too long\n",
        "      x_embed = emb_x #Standardize embeddings lengths since they depend on #of tokens\n",
        "      y_embed = emb_y\n",
        "     \n",
        "      padding_length_x  = (MAX_TOKEN_DIM * 768 - x_embed.size()[0])\n",
        "      padding_length_y  = (MAX_TOKEN_DIM * 768 - y_embed.size()[0])\n",
        "      \n",
        "      x_padded = torch.nn.functional.pad(x_embed, (int(padding_length_x/2), int(padding_length_x/2)))\n",
        "      y_padded = torch.nn.functional.pad(y_embed, (int(padding_length_y/2), int(padding_length_y/2)))\n",
        "      embedded_data.append((x_padded,y_padded, label))\n",
        "    i += 1\n",
        "  #print(f\"unique entries {len(set([embedded_data[0][0],  embedded_data[1][0]]  ))}\")\n",
        "  return embedded_data "
      ],
      "metadata": {
        "id": "ggTEK92rBaLQ"
      },
      "execution_count": 9,
      "outputs": []
    },
    {
      "cell_type": "code",
      "source": [
        "class CloneDataset(Dataset): #dataset \n",
        "\n",
        "  def __init__(self,x : list ,y : list,labels : list):\n",
        "    assert len(x) == len(y) and len(y) == len(labels) #make sure all the same size\n",
        "    #standard boilerplate\n",
        "    self.x = (x)\n",
        "    self.y = (y)\n",
        "    self.labels = labels\n",
        "    self.length = len(x)\n",
        "    \n",
        "  def __getitem__(self, idx):\n",
        "    return self.x[idx], self.y[idx], self.labels[idx]\n",
        "  \n",
        "  def __len__(self):\n",
        "    return self.length"
      ],
      "metadata": {
        "id": "00CK6wwm9MjH"
      },
      "execution_count": 10,
      "outputs": []
    },
    {
      "cell_type": "code",
      "source": [
        "\n",
        "#test_data = embed_data(test_data)\n",
        "#validation_data = embed_data(validation_data)"
      ],
      "metadata": {
        "id": "hafzrTWspZ1P"
      },
      "execution_count": 11,
      "outputs": []
    },
    {
      "cell_type": "code",
      "source": [
        "def tokenize(code : str) -> list:\n",
        "  with torch.no_grad():\n",
        "    code_tokens=tokenizer.tokenize(code)\n",
        "    \n",
        "\n",
        "    if len(code_tokens) >= 510: #confirm tokes arent too big for model\n",
        "      return None\n",
        "    code_tokens += [tokenizer.pad_token] *  (510 - len(code_tokens)) #pad out to 510 which becomes 512\n",
        "    tokens=[tokenizer.cls_token]+code_tokens+[tokenizer.sep_token]\n",
        "\n",
        "    tokens_ids=tokenizer.convert_tokens_to_ids(tokens)\n",
        "    return torch.tensor(tokens_ids, device = device)[None,:]"
      ],
      "metadata": {
        "id": "Bz8fusDHb6S7"
      },
      "execution_count": 12,
      "outputs": []
    },
    {
      "cell_type": "code",
      "source": [
        "def build_dataset(data : list):\n",
        "  x_list = []\n",
        "  y_list = []\n",
        "  label_list = []\n",
        "  i = 0\n",
        "  for x,y,l in data:#convert list of tuples to 3 separate lists\n",
        "    #x.to(device)\n",
        "    #y.to(device)\n",
        "    if i % 250 == 0:\n",
        "        print(f\"on data point {i}\")\n",
        "    x_tokens = tokenize(x)\n",
        "    y_tokens = tokenize(y)\n",
        "    if  not x_tokens is None and not y_tokens is None: #confirmm both seqs work\n",
        "      x_list.append(x_tokens)\n",
        "      y_list.append(y_tokens)\n",
        "      label_list.append(l)\n",
        "    i+=1\n",
        "\n",
        "  return CloneDataset(x_list, y_list, label_list)"
      ],
      "metadata": {
        "id": "I9GsM8wgAXRT"
      },
      "execution_count": 13,
      "outputs": []
    },
    {
      "cell_type": "code",
      "source": [
        "class Classifier(nn.Module):\n",
        "    def __init__(self):\n",
        "        super(Classifier, self).__init__()\n",
        "       \n",
        "        \n",
        "        #A note on architecture for those interested, we eat CodeBERT embeddings of size X  * 768 which have been flattened\n",
        "        # Now those vectors are each fed into FF layer(s)\n",
        "        #Then they're concatnated and fed thru more FF layer(s)\n",
        "        # Then their dimensionality is shrunk down to 1, which is sigmoided\n",
        "        layer2_size = 512\n",
        "        layer3_size = 256\n",
        "        layer4_size = 32\n",
        "        #self.xlayer_1 = nn.Linear(MAX_TOKEN_DIM * 768, layer2_size)\n",
        "        #self.ylayer_1 = nn.Linear(MAX_TOKEN_DIM * 768, layer2_size)\n",
        "\n",
        "        self.ff1 = nn.Linear( 2 * MAX_TOKEN_DIM * 768, layer2_size )\n",
        "        self.ff2 = nn.Linear(layer2_size, 1)\n",
        "        #self.ff3 = nn.Linear(layer4_size, 1)\n",
        "        self.relu = nn.ReLU()\n",
        "        self.sigmoid = nn.Sigmoid()\n",
        "\n",
        "        self.batchNorm1 = nn.BatchNorm1d(layer2_size, affine = False)\n",
        "\n",
        "        #nn.init.xavier_normal_(self.xlayer_1.weight)\n",
        "        #nn.init.xavier_normal_(self.ylayer_1.weight)\n",
        "        nn.init.xavier_normal_(self.ff1.weight)\n",
        "        nn.init.xavier_normal_(self.ff2.weight)\n",
        "        #nn.init.xavier_normal_(self.ff3.weight)\n",
        "\n",
        "        #self.to(device)\n",
        "\n",
        "\n",
        "    def forward(self, x,y):\n",
        "      \n",
        "       combined = torch.cat((x, y),1)\n",
        "      \n",
        "       out = self.ff1(combined)\n",
        "       #print(f\"out is {out}\")\n",
        "       \n",
        "       out = self.sigmoid(out)\n",
        "       #xm.mark_step()\n",
        "       out = self.batchNorm1(out)\n",
        "       #xm.mark_step()\n",
        "       out = self.ff2(out)\n",
        "       #xm.mark_step()\n",
        "       #out = self.relu(out)\n",
        "       #out = self.ff3(out)\n",
        "       \n",
        "       #out = self.sigmoid(out)\n",
        "       return out\n"
      ],
      "metadata": {
        "id": "eZZu9vOmt8tm"
      },
      "execution_count": 30,
      "outputs": []
    },
    {
      "cell_type": "code",
      "source": [
        "idx_to_function = load_data()\n",
        "train_data, test_data,validation_data = split_and_label_data(idx_to_function)\n",
        "print(len(train_data))\n",
        "train_data = build_dataset(train_data[:3000])\n",
        "\n"
      ],
      "metadata": {
        "id": "p6LWC8lU0SGU",
        "colab": {
          "base_uri": "https://localhost:8080/"
        },
        "outputId": "128a6ccf-9adc-4c7e-a920-1f77f1d7bc04"
      },
      "execution_count": 15,
      "outputs": [
        {
          "output_type": "stream",
          "name": "stderr",
          "text": [
            "Token indices sequence length is longer than the specified maximum sequence length for this model (1023 > 512). Running this sequence through the model will result in indexing errors\n"
          ]
        },
        {
          "output_type": "stream",
          "name": "stdout",
          "text": [
            "901028\n",
            "on data point 0\n",
            "on data point 250\n",
            "on data point 500\n",
            "on data point 750\n",
            "on data point 1000\n",
            "on data point 1250\n",
            "on data point 1500\n",
            "on data point 1750\n",
            "on data point 2000\n",
            "on data point 2250\n",
            "on data point 2500\n",
            "on data point 2750\n"
          ]
        }
      ]
    },
    {
      "cell_type": "code",
      "source": [
        "trainLoader = DataLoader(train_data, batch_size= 128, shuffle = False, drop_last = True)# BATCH SIZES MUST BE MULTIPLES OF 128"
      ],
      "metadata": {
        "id": "iUqf_FPNTSKa"
      },
      "execution_count": 16,
      "outputs": []
    },
    {
      "cell_type": "code",
      "source": [
        "class F1(nn.Module):\n",
        "    def __init__(self):\n",
        "        super(F1, self).__init__()\n",
        "       \n",
        "\n",
        "\n",
        "    def forward(self, label,pred):\n",
        "      with torch.no_grad():\n",
        "        x = torch.round(pred) - label\n",
        "        x  = torch.flatten(x)\n",
        "        tp = torch.where(x == 0, 1, 0)\n",
        "        tp_count = float(torch.numel(torch.nonzero(tp)))\n",
        "\n",
        "        fp = torch.where(x == 1, 1, 0)\n",
        "        fp_count = float(torch.numel(torch.nonzero(fp)))\n",
        "\n",
        "        fn = torch.where(x == -1, 1, 0)\n",
        "        fn_count = float(torch.numel(torch.nonzero(fn)))\n",
        "        denom = (tp_count + .5 * (fp_count + fn_count))\n",
        "        #print(tp_count, fp_count, fn_count)\n",
        "        #print(denom)\n",
        "        if denom == 0:\n",
        "          return 0\n",
        "        return float(tp_count) / float(denom)"
      ],
      "metadata": {
        "id": "Nf1LORXo3kIz"
      },
      "execution_count": 17,
      "outputs": []
    },
    {
      "cell_type": "markdown",
      "source": [
        "# Train model"
      ],
      "metadata": {
        "id": "AXLGEVbK0qda"
      }
    },
    {
      "cell_type": "code",
      "source": [
        "def train():\n",
        "  torch.cuda.empty_cache() \n",
        "  epochs  = 2 #standard boilerplate\n",
        "  model = Classifier()\n",
        "  print(model.ff1.weight.device)\n",
        "  #criterion = nn.BCELoss()\n",
        "  criterion = nn.BCEWithLogitsLoss()\n",
        "  optimizer = optim.Adam(model.parameters())\n",
        "  scorer = F1()\n",
        "  scorer.to(device)\n",
        "\n",
        "  loss_history = []\n",
        "  f1_history = []\n",
        "  model.to(device)\n",
        "  codebert.to(device)\n",
        "  for epoch in range(epochs): #standard training procedure\n",
        "    torch.cuda.empty_cache() \n",
        "    epoch_loss = 0\n",
        "    \n",
        "    tp_count = 0 #setup for f1 score\n",
        "    fp_count = 0\n",
        "    fn_count = 0\n",
        "    f1 = 0\n",
        "    \n",
        "    j = 0\n",
        "    for x,y,label in trainLoader:\n",
        "      torch.cuda.empty_cache() \n",
        "     \n",
        "      #print(f\"b0 {batch[0]}\")\n",
        "      #print(f\"b1 {batch[1]}\")\n",
        "      #print(f\"b2 {batch[2]}\")\n",
        "\n",
        "      with torch.no_grad():\n",
        "        x = torch.reshape(x, (x.shape[0], x.shape[2])) # make Batch size X 1 X 512 into Batch size X 512\n",
        "        y = torch.reshape(y, (y.shape[0], y.shape[2]))\n",
        "\n",
        "\n",
        "\n",
        "        \n",
        "       \n",
        "        #model.to(\"cpu\")\n",
        "        #codebert.to(device)\n",
        "        #print(f\"before embedding codebert is on {codebert.device}\")\n",
        "        embed_start = datetime.now()\n",
        "        embedded_x=codebert(x)[0]\n",
        "       \n",
        "        embedded_y=codebert(y)[0]\n",
        "       \n",
        "        embed_end = datetime.now()\n",
        "        #codebert.to(\"cpu\")\n",
        "        #model.to(device)\n",
        "        #print(embedded_x.shape)\n",
        "        #print(embedded_y.shape)\n",
        "        embedded_x.to('cpu')\n",
        "        embedded_y.to('cpu')\n",
        "        embedded_x = torch.flatten(embedded_x, start_dim = 1)\n",
        "        embedded_y = torch.flatten(embedded_y, start_dim = 1)\n",
        "        embedded_x.to(device)\n",
        "        embedded_y.to(device)\n",
        "        #print(embedded_x.shape)\n",
        "        #print(embedded_y.shape)\n",
        "       \n",
        "      \n",
        "      model_start = datetime.now()\n",
        "      optimizer.zero_grad()\n",
        "      #print(embedded_x.dtype)\n",
        "      #print(\"max x {}\".format(torch.max(embedded_x)))\n",
        "      #print(f\"before prediction model is on device {model.ff1.weight.device}\")\n",
        "      pred = model(embedded_x,embedded_y)\n",
        "      \n",
        "     \n",
        "      #print(f\"pred is {pred.shape} {pred}\")\n",
        "     \n",
        "\n",
        "\n",
        "      #print(label.shape)\n",
        "      #print(pred.view(10).shape)\n",
        "      loss_start = datetime.now()\n",
        "      loss = criterion(torch.flatten(pred.unsqueeze(1)),torch.flatten(label.unsqueeze(1)))\n",
        "      #loss = torch.nn.functional.binary_cross_entropy_with_logits(torch.flatten(pred.unsqueeze(1)),torch.flatten(label.unsqueeze(1)))\n",
        "      loss.backward()\n",
        "      #nn.utils.clip_grad_norm_(model.parameters(), max_norm = 2.0, norm_type = 2.0)\n",
        "      optimizer.step()\n",
        "      xm.mark_step()\n",
        "      \n",
        "      loss_end = datetime.now()\n",
        "      #print(\"pred is {}\".format(pred))\n",
        "      epoch_loss += loss.item()\n",
        "      end = datetime.now()\n",
        "      model_delta_t = end-model_start \n",
        "      embed_delta_t = embed_end-embed_start\n",
        "      loss_delta_t = loss_start-loss_end\n",
        "     \n",
        "     \n",
        "      with torch.no_grad():\n",
        "        f1_score = scorer(label,pred)\n",
        "        xm.mark_step()\n",
        "        score_start = datetime.now()\n",
        "        loss_history.append(loss.item())\n",
        "        f1_history.append(f1_score)\n",
        "        if j % 1 == 0:\n",
        "          print(torch.min(pred), torch.max(pred))\n",
        "          print(\"time per model iteration {} s\".format(model_delta_t.microseconds / 10**6))\n",
        "          print(\"time per embed iteration {} s\".format(embed_delta_t.microseconds / 10**6))\n",
        "          print(\"time per loss iteration {} s\".format(loss_delta_t.microseconds / 10**6))\n",
        "          \n",
        "          print(\"at iteration{} of epoch {} total loss is {} , f1 is {}, tp is {}, current loss is {}\".format(j,epoch,epoch_loss, f1_history[-1], tp_count, loss.item()))\n",
        "      j+=1\n",
        "      #print(met.metrics_report())\n",
        "      \n",
        "      \n",
        "        #\n",
        "        #calculate scores\n",
        "        #pred_rounded = torch.round(pred)\n",
        "        ##pred._rounded.to('cpu')\n",
        "        #print(label.shape)\n",
        "        #label.to('cpu')\n",
        "        #pred_rounded.to('cpu')\n",
        "        #for i in range(label.shape[0]):\n",
        "        #  #print(f\"i is {i}\")\n",
        "        #  if pred_rounded[i] == 1 and label[i] == 1:\n",
        "        #    tp_count += 1\n",
        "        #  elif pred_rounded[i] == 1 and label[i] == 0:\n",
        "        #    fp_count += 1\n",
        "        #  elif pred_rounded[i] == 0 and label[i] == 1:\n",
        "        #    fn_count += 1\n",
        "\n",
        "        #\n",
        "        #if (tp_count + .5 * (fp_count + fn_count)) != 0: #dont get 0 for denom of f1\n",
        "        #  f1 = tp_count/(tp_count + .5 * (fp_count + fn_count))\n",
        "        #\n",
        "        ##loss = loss.item.to('cpu')\n",
        "        #loss_history.append(loss.item())\n",
        "        #f1_history.append(f1)\n",
        "        #score_end = datetime.now()\n",
        "        #print(f\"{(score_end-score_start) / 10**6} s for scoring\")\n",
        "  return (loss_history,f1_history)"
      ],
      "metadata": {
        "id": "mDmyDuz6wuN7"
      },
      "execution_count": 31,
      "outputs": []
    },
    {
      "cell_type": "code",
      "source": [
        "loss_history, f1_history = train()"
      ],
      "metadata": {
        "id": "Gsr8-zrrzR7_",
        "colab": {
          "base_uri": "https://localhost:8080/",
          "height": 1000
        },
        "outputId": "7f5acb9b-afca-4ef7-ff25-d4659a059df5"
      },
      "execution_count": 32,
      "outputs": [
        {
          "output_type": "stream",
          "name": "stdout",
          "text": [
            "cpu\n"
          ]
        },
        {
          "output_type": "error",
          "ename": "RuntimeError",
          "evalue": "ignored",
          "traceback": [
            "\u001b[0;31m---------------------------------------------------------------------------\u001b[0m",
            "\u001b[0;31mRuntimeError\u001b[0m                              Traceback (most recent call last)",
            "\u001b[0;32m<ipython-input-32-61e7cf8c12c2>\u001b[0m in \u001b[0;36m<module>\u001b[0;34m()\u001b[0m\n\u001b[0;32m----> 1\u001b[0;31m \u001b[0mloss_history\u001b[0m\u001b[0;34m,\u001b[0m \u001b[0mf1_history\u001b[0m \u001b[0;34m=\u001b[0m \u001b[0mtrain\u001b[0m\u001b[0;34m(\u001b[0m\u001b[0;34m)\u001b[0m\u001b[0;34m\u001b[0m\u001b[0;34m\u001b[0m\u001b[0m\n\u001b[0m",
            "\u001b[0;32m<ipython-input-31-c57d00fbddee>\u001b[0m in \u001b[0;36mtrain\u001b[0;34m()\u001b[0m\n\u001b[1;32m     77\u001b[0m       \u001b[0;31m#print(pred.view(10).shape)\u001b[0m\u001b[0;34m\u001b[0m\u001b[0;34m\u001b[0m\u001b[0;34m\u001b[0m\u001b[0m\n\u001b[1;32m     78\u001b[0m       \u001b[0mloss_start\u001b[0m \u001b[0;34m=\u001b[0m \u001b[0mdatetime\u001b[0m\u001b[0;34m.\u001b[0m\u001b[0mnow\u001b[0m\u001b[0;34m(\u001b[0m\u001b[0;34m)\u001b[0m\u001b[0;34m\u001b[0m\u001b[0;34m\u001b[0m\u001b[0m\n\u001b[0;32m---> 79\u001b[0;31m       \u001b[0mloss\u001b[0m \u001b[0;34m=\u001b[0m \u001b[0mcriterion\u001b[0m\u001b[0;34m(\u001b[0m\u001b[0mtorch\u001b[0m\u001b[0;34m.\u001b[0m\u001b[0mflatten\u001b[0m\u001b[0;34m(\u001b[0m\u001b[0mpred\u001b[0m\u001b[0;34m.\u001b[0m\u001b[0munsqueeze\u001b[0m\u001b[0;34m(\u001b[0m\u001b[0;36m1\u001b[0m\u001b[0;34m)\u001b[0m\u001b[0;34m)\u001b[0m\u001b[0;34m,\u001b[0m\u001b[0mtorch\u001b[0m\u001b[0;34m.\u001b[0m\u001b[0mflatten\u001b[0m\u001b[0;34m(\u001b[0m\u001b[0mlabel\u001b[0m\u001b[0;34m.\u001b[0m\u001b[0munsqueeze\u001b[0m\u001b[0;34m(\u001b[0m\u001b[0;36m1\u001b[0m\u001b[0;34m)\u001b[0m\u001b[0;34m)\u001b[0m\u001b[0;34m)\u001b[0m\u001b[0;34m\u001b[0m\u001b[0;34m\u001b[0m\u001b[0m\n\u001b[0m\u001b[1;32m     80\u001b[0m       \u001b[0;31m#loss = torch.nn.functional.binary_cross_entropy_with_logits(torch.flatten(pred.unsqueeze(1)),torch.flatten(label.unsqueeze(1)))\u001b[0m\u001b[0;34m\u001b[0m\u001b[0;34m\u001b[0m\u001b[0;34m\u001b[0m\u001b[0m\n\u001b[1;32m     81\u001b[0m       \u001b[0mloss\u001b[0m\u001b[0;34m.\u001b[0m\u001b[0mbackward\u001b[0m\u001b[0;34m(\u001b[0m\u001b[0;34m)\u001b[0m\u001b[0;34m\u001b[0m\u001b[0;34m\u001b[0m\u001b[0m\n",
            "\u001b[0;32m/usr/local/lib/python3.7/dist-packages/torch/nn/modules/module.py\u001b[0m in \u001b[0;36m_call_impl\u001b[0;34m(self, *input, **kwargs)\u001b[0m\n\u001b[1;32m   1108\u001b[0m         if not (self._backward_hooks or self._forward_hooks or self._forward_pre_hooks or _global_backward_hooks\n\u001b[1;32m   1109\u001b[0m                 or _global_forward_hooks or _global_forward_pre_hooks):\n\u001b[0;32m-> 1110\u001b[0;31m             \u001b[0;32mreturn\u001b[0m \u001b[0mforward_call\u001b[0m\u001b[0;34m(\u001b[0m\u001b[0;34m*\u001b[0m\u001b[0minput\u001b[0m\u001b[0;34m,\u001b[0m \u001b[0;34m**\u001b[0m\u001b[0mkwargs\u001b[0m\u001b[0;34m)\u001b[0m\u001b[0;34m\u001b[0m\u001b[0;34m\u001b[0m\u001b[0m\n\u001b[0m\u001b[1;32m   1111\u001b[0m         \u001b[0;31m# Do not call functions when jit is used\u001b[0m\u001b[0;34m\u001b[0m\u001b[0;34m\u001b[0m\u001b[0;34m\u001b[0m\u001b[0m\n\u001b[1;32m   1112\u001b[0m         \u001b[0mfull_backward_hooks\u001b[0m\u001b[0;34m,\u001b[0m \u001b[0mnon_full_backward_hooks\u001b[0m \u001b[0;34m=\u001b[0m \u001b[0;34m[\u001b[0m\u001b[0;34m]\u001b[0m\u001b[0;34m,\u001b[0m \u001b[0;34m[\u001b[0m\u001b[0;34m]\u001b[0m\u001b[0;34m\u001b[0m\u001b[0;34m\u001b[0m\u001b[0m\n",
            "\u001b[0;32m/usr/local/lib/python3.7/dist-packages/torch/nn/modules/loss.py\u001b[0m in \u001b[0;36mforward\u001b[0;34m(self, input, target)\u001b[0m\n\u001b[1;32m    610\u001b[0m \u001b[0;34m\u001b[0m\u001b[0m\n\u001b[1;32m    611\u001b[0m     \u001b[0;32mdef\u001b[0m \u001b[0mforward\u001b[0m\u001b[0;34m(\u001b[0m\u001b[0mself\u001b[0m\u001b[0;34m,\u001b[0m \u001b[0minput\u001b[0m\u001b[0;34m:\u001b[0m \u001b[0mTensor\u001b[0m\u001b[0;34m,\u001b[0m \u001b[0mtarget\u001b[0m\u001b[0;34m:\u001b[0m \u001b[0mTensor\u001b[0m\u001b[0;34m)\u001b[0m \u001b[0;34m->\u001b[0m \u001b[0mTensor\u001b[0m\u001b[0;34m:\u001b[0m\u001b[0;34m\u001b[0m\u001b[0;34m\u001b[0m\u001b[0m\n\u001b[0;32m--> 612\u001b[0;31m         \u001b[0;32mreturn\u001b[0m \u001b[0mF\u001b[0m\u001b[0;34m.\u001b[0m\u001b[0mbinary_cross_entropy\u001b[0m\u001b[0;34m(\u001b[0m\u001b[0minput\u001b[0m\u001b[0;34m,\u001b[0m \u001b[0mtarget\u001b[0m\u001b[0;34m,\u001b[0m \u001b[0mweight\u001b[0m\u001b[0;34m=\u001b[0m\u001b[0mself\u001b[0m\u001b[0;34m.\u001b[0m\u001b[0mweight\u001b[0m\u001b[0;34m,\u001b[0m \u001b[0mreduction\u001b[0m\u001b[0;34m=\u001b[0m\u001b[0mself\u001b[0m\u001b[0;34m.\u001b[0m\u001b[0mreduction\u001b[0m\u001b[0;34m)\u001b[0m\u001b[0;34m\u001b[0m\u001b[0;34m\u001b[0m\u001b[0m\n\u001b[0m\u001b[1;32m    613\u001b[0m \u001b[0;34m\u001b[0m\u001b[0m\n\u001b[1;32m    614\u001b[0m \u001b[0;34m\u001b[0m\u001b[0m\n",
            "\u001b[0;32m/usr/local/lib/python3.7/dist-packages/torch/nn/functional.py\u001b[0m in \u001b[0;36mbinary_cross_entropy\u001b[0;34m(input, target, weight, size_average, reduce, reduction)\u001b[0m\n\u001b[1;32m   3063\u001b[0m         \u001b[0mweight\u001b[0m \u001b[0;34m=\u001b[0m \u001b[0mweight\u001b[0m\u001b[0;34m.\u001b[0m\u001b[0mexpand\u001b[0m\u001b[0;34m(\u001b[0m\u001b[0mnew_size\u001b[0m\u001b[0;34m)\u001b[0m\u001b[0;34m\u001b[0m\u001b[0;34m\u001b[0m\u001b[0m\n\u001b[1;32m   3064\u001b[0m \u001b[0;34m\u001b[0m\u001b[0m\n\u001b[0;32m-> 3065\u001b[0;31m     \u001b[0;32mreturn\u001b[0m \u001b[0mtorch\u001b[0m\u001b[0;34m.\u001b[0m\u001b[0m_C\u001b[0m\u001b[0;34m.\u001b[0m\u001b[0m_nn\u001b[0m\u001b[0;34m.\u001b[0m\u001b[0mbinary_cross_entropy\u001b[0m\u001b[0;34m(\u001b[0m\u001b[0minput\u001b[0m\u001b[0;34m,\u001b[0m \u001b[0mtarget\u001b[0m\u001b[0;34m,\u001b[0m \u001b[0mweight\u001b[0m\u001b[0;34m,\u001b[0m \u001b[0mreduction_enum\u001b[0m\u001b[0;34m)\u001b[0m\u001b[0;34m\u001b[0m\u001b[0;34m\u001b[0m\u001b[0m\n\u001b[0m\u001b[1;32m   3066\u001b[0m \u001b[0;34m\u001b[0m\u001b[0m\n\u001b[1;32m   3067\u001b[0m \u001b[0;34m\u001b[0m\u001b[0m\n",
            "\u001b[0;31mRuntimeError\u001b[0m: torch_xla/csrc/aten_xla_bridge.cpp:69 : Check failed: xtensor \n*** Begin stack trace ***\n\ttensorflow::CurrentStackTrace()\n\ttorch_xla::bridge::GetXlaTensor(at::Tensor const&)\n\ttorch_xla::XLANativeFunctions::binary_cross_entropy(at::Tensor const&, at::Tensor const&, c10::optional<at::Tensor> const&, long)\n\t\n\tat::_ops::binary_cross_entropy::redispatch(c10::DispatchKeySet, at::Tensor const&, at::Tensor const&, c10::optional<at::Tensor> const&, long)\n\t\n\t\n\tat::_ops::binary_cross_entropy::call(at::Tensor const&, at::Tensor const&, c10::optional<at::Tensor> const&, long)\n\t\n\t_PyMethodDef_RawFastCallKeywords\n\t_PyCFunction_FastCallKeywords\n\t_PyEval_EvalFrameDefault\n\t_PyEval_EvalCodeWithName\n\t_PyFunction_FastCallKeywords\n\t_PyEval_EvalFrameDefault\n\t_PyObject_Call_Prepend\n\tPyObject_Call\n\t_PyEval_EvalFrameDefault\n\t_PyEval_EvalCodeWithName\n\t_PyObject_Call_Prepend\n\t\n\t_PyObject_FastCallKeywords\n\t_PyEval_EvalFrameDefault\n\t_PyFunction_FastCallKeywords\n\t_PyEval_EvalFrameDefault\n\t_PyEval_EvalCodeWithName\n\tPyEval_EvalCode\n\t\n\t_PyMethodDef_RawFastCallKeywords\n\t_PyCFunction_FastCallKeywords\n\t_PyEval_EvalFrameDefault\n\t_PyEval_EvalCodeWithName\n\t_PyFunction_FastCallKeywords\n\t_PyEval_EvalFrameDefault\n\t_PyEval_EvalCodeWithName\n\t_PyFunction_FastCallKeywords\n\t_PyEval_EvalFrameDefault\n\t_PyEval_EvalCodeWithName\n\t_PyObject_Call_Prepend\n\tPyObject_Call\n\t_PyEval_EvalFrameDefault\n\t_PyEval_EvalCodeWithName\n\t_PyFunction_FastCallKeywords\n\t_PyEval_EvalFrameDefault\n\t_PyEval_EvalCodeWithName\n\t_PyFunction_FastCallKeywords\n\t_PyEval_EvalFrameDefault\n\t_PyFunction_FastCallKeywords\n\t_PyEval_EvalFrameDefault\n\t_PyFunction_FastCallKeywords\n\t_PyEval_EvalFrameDefault\n\t_PyEval_EvalCodeWithName\n\t_PyFunction_FastCallDict\n\t_PyEval_EvalFrameDefault\n\t_PyEval_EvalCodeWithName\n\t_PyFunction_FastCallDict\n\t_PyEval_EvalFrameDefault\n\t_PyEval_EvalCodeWithName\n\t_PyFunction_FastCallKeywords\n\t_PyEval_EvalFrameDefault\n\t_PyFunction_FastCallKeywords\n\t_PyEval_EvalFrameDefault\n\t_PyObject_Call_Prepend\n\tPyObject_Call\n\t_PyEval_EvalFrameDefault\n\t_PyEval_EvalCodeWithName\n\t_PyFunction_FastCallKeywords\n\t_PyEval_EvalFrameDefault\n\t_PyObject_Call_Prepend\n\t_PyObject_FastCallKeywords\n\t\n\t_PyMethodDef_RawFastCallDict\n\tPyCFunction_Call\n\t_PyEval_EvalFrameDefault\n\t_PyFunction_FastCallKeywords\n\t_PyEval_EvalFrameDefault\n\t_PyFunction_FastCallKeywords\n\t_PyEval_EvalFrameDefault\n\t_PyFunction_FastCallKeywords\n\t_PyEval_EvalFrameDefault\n\t_PyFunction_FastCallKeywords\n\t_PyEval_EvalFrameDefault\n\t_PyFunction_FastCallKeywords\n\t_PyEval_EvalFrameDefault\n\t_PyEval_EvalCodeWithName\n\t_PyFunction_FastCallKeywords\n\t_PyEval_EvalFrameDefault\n\t_PyEval_EvalCodeWithName\n\tPyEval_EvalCode\n\t\n\t_PyMethodDef_RawFastCallKeywords\n\t_PyCFunction_FastCallKeywords\n\t_PyEval_EvalFrameDefault\n\t_PyEval_EvalCodeWithName\n\t_PyFunction_FastCallKeywords\n\t_PyEval_EvalFrameDefault\n\t_PyEval_EvalCodeWithName\n\t_PyFunction_FastCallDict\n\t\n\t\n\t_Py_UnixMain\n\t__libc_start_main\n\t_start\n*** End stack trace ***\nInput tensor is not an XLA tensor: torch.DoubleTensor"
          ]
        }
      ]
    },
    {
      "cell_type": "markdown",
      "source": [
        "# Analzye results"
      ],
      "metadata": {
        "id": "W-4-FxV90s_9"
      }
    },
    {
      "cell_type": "code",
      "source": [
        "plt.scatter(list(range(len(f1_history))), f1_history)\n",
        "plt.title(\"F1 score\")\n",
        "plt.xlabel(\"Iterations\")\n",
        "plt.ylabel(\"F1\")\n",
        "plt.show()\n",
        "plt.scatter(list(range(len(loss_history))), loss_history)\n",
        "plt.title(\"Loss\")\n",
        "plt.xlabel(\"Iterations\")\n",
        "plt.ylabel(\"Loss\")\n",
        "plt.show()"
      ],
      "metadata": {
        "id": "5hDwOnK2p_AY",
        "colab": {
          "base_uri": "https://localhost:8080/",
          "height": 573
        },
        "outputId": "f51613e0-308e-460f-81c6-a4a8a6ce115b"
      },
      "execution_count": 29,
      "outputs": [
        {
          "output_type": "display_data",
          "data": {
            "text/plain": [
              "<Figure size 432x288 with 1 Axes>"
            ],
            "image/png": "[encoded data removed]"
          },
          "metadata": {
            "needs_background": "light"
          }
        },
        {
          "output_type": "display_data",
          "data": {
            "text/plain": [
              "<Figure size 432x288 with 1 Axes>"
            ],
            "image/png": "[encoded data removed]"
          },
          "metadata": {
            "needs_background": "light"
          }
        }
      ]
    }
  ]
}